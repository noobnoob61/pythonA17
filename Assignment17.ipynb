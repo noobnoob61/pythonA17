{
 "cells": [
  {
   "cell_type": "markdown",
   "metadata": {},
   "source": [
    "1. Write a program to find average of all the even numbers, and \n",
    "odd number that are present in the list. And also your program \n",
    "shold be return no. of evens and odd are present in this list List \n",
    "for your reference \n",
    "lst = [25,41,85,96,35,64,75,9,12,21,32,23,25,56]"
   ]
  },
  {
   "cell_type": "code",
   "execution_count": 13,
   "metadata": {},
   "outputs": [
    {
     "name": "stdout",
     "output_type": "stream",
     "text": [
      "Count of even numbers is 5\n",
      "average of even= 52\n",
      "Count of odd numbers is 11\n",
      "average of odd= 18\n"
     ]
    }
   ],
   "source": [
    "lst = [25,41,85,96,35,64,75,9,12,21,32,23,25,56]\n",
    "count1=0\n",
    "count2=2\n",
    "sum=0\n",
    "for i in lst:\n",
    "    if (i%2)==0:\n",
    "        count1=count1+1\n",
    "        sum+=i\n",
    "        avg1=sum//count1\n",
    "        \n",
    "    else:\n",
    "        count2=count2+1\n",
    "        avg2=sum//count2\n",
    "\n",
    "print(\"Count of even numbers is\",count1) \n",
    "print(\"average of even=\",avg1)\n",
    "print(\"Count of odd numbers is\",count2)  \n",
    "print(\"average of odd=\",avg2)"
   ]
  },
  {
   "cell_type": "markdown",
   "metadata": {},
   "source": [
    "2. Write a program to find the target element from the list, with \n",
    "linear search and Binary search"
   ]
  },
  {
   "cell_type": "code",
   "execution_count": 42,
   "metadata": {},
   "outputs": [
    {
     "name": "stdout",
     "output_type": "stream",
     "text": [
      "\n",
      " linear search:\n",
      "element not found!\n",
      "element not found!\n",
      "element not found!\n",
      "element found! \n",
      "element not found!\n",
      "element not found!\n",
      "element not found!\n",
      "element not found!\n",
      "element not found!\n",
      "element not found!\n",
      "element not found!\n",
      "element not found!\n",
      "element not found!\n",
      "element not found!\n",
      "\n",
      " binary search:\n",
      "Element 96 not found.\n"
     ]
    }
   ],
   "source": [
    "num=int(input(\"Enter number:\"))\n",
    "\n",
    "#linear search\n",
    "print(\"\\n linear search:\")\n",
    "for i in lst:\n",
    "     if i==num:\n",
    "        index=lst.index(i)\n",
    "        print(\"element found! \")\n",
    "     else:\n",
    "       print(\"element not found!\")\n",
    "\n",
    "\n",
    "#binary search\n",
    "print(\"\\n binary search:\")\n",
    "\n",
    "def binary_search(lst, target):\n",
    "    low = 0\n",
    "    high = len(lst) - 1\n",
    "\n",
    "    while low <= high:\n",
    "        mid = (low + high) // 2\n",
    "        mid_val = lst[mid]\n",
    "\n",
    "        if mid_val == target:\n",
    "            return mid\n",
    "        elif mid_val < target:\n",
    "            low = mid + 1\n",
    "        else:\n",
    "            high = mid - 1\n",
    "\n",
    "    return -1  \n",
    "\n",
    "   \n",
    "target = num\n",
    "result = binary_search(lst, target)\n",
    "if result != -1:\n",
    "    print(f\"Element {target} found at index {result}.\")\n",
    "else:\n",
    "    print(f\"Element {target} not found.\")\n",
    "\n"
   ]
  },
  {
   "cell_type": "markdown",
   "metadata": {},
   "source": [
    "3. Learn about list comprehension and write a program to \n",
    "generate a list of square element from this given list and also \n",
    "try to filter all the even numbers from the given list using list \n",
    "comprehension. \n",
    "lst = [25,41,85,96,35,64,75,9,12,21,32,23,25,56]"
   ]
  },
  {
   "cell_type": "code",
   "execution_count": 44,
   "metadata": {},
   "outputs": [
    {
     "name": "stdout",
     "output_type": "stream",
     "text": [
      "square= [625, 1681, 7225, 9216, 1225, 4096, 5625, 81, 144, 441, 1024, 529, 625, 3136]\n",
      "even= [False, False, False, True, False, True, False, False, True, False, True, False, False, True]\n"
     ]
    }
   ],
   "source": [
    "#square elements\n",
    "square = [i**2 for i in lst]\n",
    "print(\"square=\",square)\n",
    "\n",
    "#even numbers\n",
    "even=[(i%2)==0 for i in lst]\n",
    "print(\"even=\",even)"
   ]
  }
 ],
 "metadata": {
  "kernelspec": {
   "display_name": "Python 3",
   "language": "python",
   "name": "python3"
  },
  "language_info": {
   "codemirror_mode": {
    "name": "ipython",
    "version": 3
   },
   "file_extension": ".py",
   "mimetype": "text/x-python",
   "name": "python",
   "nbconvert_exporter": "python",
   "pygments_lexer": "ipython3",
   "version": "3.11.9"
  }
 },
 "nbformat": 4,
 "nbformat_minor": 2
}
